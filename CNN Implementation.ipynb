{
 "cells": [
  {
   "cell_type": "markdown",
   "metadata": {},
   "source": [
    "## CNN Implementation."
   ]
  },
  {
   "cell_type": "code",
   "execution_count": 1,
   "metadata": {},
   "outputs": [],
   "source": [
    "# Working on 2 datasets. These datasets are common and available readily.\n",
    "\n",
    "# - Fashion MNIST.\n",
    "\n",
    "# - CIFAR-10"
   ]
  },
  {
   "cell_type": "code",
   "execution_count": 2,
   "metadata": {},
   "outputs": [],
   "source": [
    "# Basics of data augmentation. This is used when the images are too large to fit in the RAM.\n"
   ]
  },
  {
   "cell_type": "markdown",
   "metadata": {},
   "source": [
    " - We will be creating a basic model at first and then try to improve the model."
   ]
  },
  {
   "cell_type": "code",
   "execution_count": 3,
   "metadata": {},
   "outputs": [],
   "source": [
    "# Source of Data.\n",
    "\n",
    "# - Fashion MNIST - tf.keras.datasets.fashion_mnist.load_data()\n",
    "\n",
    "# - CIFAR-10 - tf.keras.datasets.cifar10.load_data()"
   ]
  },
  {
   "cell_type": "code",
   "execution_count": 4,
   "metadata": {},
   "outputs": [
    {
     "name": "stdout",
     "output_type": "stream",
     "text": [
      "2.1.0\n"
     ]
    }
   ],
   "source": [
    "# Importing tensorflow and check the version.\n",
    "\n",
    "import tensorflow as tf\n",
    "\n",
    "print(tf.__version__)"
   ]
  },
  {
   "cell_type": "code",
   "execution_count": 7,
   "metadata": {},
   "outputs": [],
   "source": [
    "# Importing necessary libraries.\n",
    "\n",
    "import numpy as np\n",
    "import matplotlib.pyplot as plt\n",
    "from tensorflow.keras.layers import Input, Conv2D, Dense, Flatten, Dropout\n",
    "from tensorflow.keras.models import Model"
   ]
  },
  {
   "cell_type": "code",
   "execution_count": 29,
   "metadata": {},
   "outputs": [
    {
     "data": {
      "text/plain": [
       "tuple"
      ]
     },
     "execution_count": 29,
     "metadata": {},
     "output_type": "execute_result"
    }
   ],
   "source": [
    "# Load the data.\n",
    "\n",
    "fashion_mnist = tf.keras.datasets.fashion_mnist.load_data()\n",
    "\n",
    "type(fashion_mnist)"
   ]
  },
  {
   "cell_type": "code",
   "execution_count": 30,
   "metadata": {},
   "outputs": [],
   "source": [
    "(x_train, y_train), (x_test, y_test) = fashion_mnist"
   ]
  },
  {
   "cell_type": "code",
   "execution_count": 31,
   "metadata": {},
   "outputs": [
    {
     "name": "stdout",
     "output_type": "stream",
     "text": [
      "Shape of X train:  (60000, 28, 28)\n",
      "Shape of y train:  (60000,)\n",
      "Shape of X test:  (10000, 28, 28)\n",
      "Shape of y test:  (10000,)\n"
     ]
    }
   ],
   "source": [
    "print(\"Shape of X train: \", x_train.shape)\n",
    "\n",
    "print(\"Shape of y train: \", y_train.shape)\n",
    "\n",
    "print(\"Shape of X test: \", x_test.shape)\n",
    "\n",
    "print(\"Shape of y test: \", y_test.shape)"
   ]
  },
  {
   "cell_type": "code",
   "execution_count": 32,
   "metadata": {},
   "outputs": [],
   "source": [
    "# Each pixel value ranges from 0 to 255. Dividing by 255 will be get in it in range 0-1 which is easier for computation.\n",
    "\n",
    "x_train, x_test = x_train / 255.0 , x_test / 255.0"
   ]
  },
  {
   "cell_type": "code",
   "execution_count": 33,
   "metadata": {},
   "outputs": [
    {
     "name": "stdout",
     "output_type": "stream",
     "text": [
      "(60000, 28, 28, 1)\n",
      "(10000, 28, 28, 1)\n"
     ]
    }
   ],
   "source": [
    "# Convolution layer expects a Height, Width, Color. We have only 2D. Coverting 2D to 3D.\n",
    "\n",
    "x_train = np.expand_dims(x_train, axis=-1)\n",
    "\n",
    "print(x_train.shape)\n",
    "\n",
    "x_test = np.expand_dims(x_test, axis=-1)\n",
    "\n",
    "print(x_test.shape)\n",
    "\n"
   ]
  },
  {
   "cell_type": "code",
   "execution_count": 36,
   "metadata": {},
   "outputs": [
    {
     "data": {
      "text/plain": [
       "(28, 28, 1)"
      ]
     },
     "execution_count": 36,
     "metadata": {},
     "output_type": "execute_result"
    }
   ],
   "source": [
    "# Getting the number of classes.\n",
    "\n",
    "K = len(set(y_train))\n",
    "\n",
    "K\n"
   ]
  },
  {
   "cell_type": "code",
   "execution_count": 37,
   "metadata": {},
   "outputs": [],
   "source": [
    "## Building a model using keras functional API.\n",
    "\n",
    "i = Input(shape=x_train[1].shape)\n",
    "\n",
    "x = Conv2D(32, (3,3), strides=2, activation='relu')(i)\n",
    "x = Conv2D(64, (3,3), strides=2, activation='relu')(x)\n",
    "x = Conv2D(128, (3,3), strides=2, activation='relu')(x)\n",
    "\n",
    "x = Flatten()(x)\n",
    "\n",
    "x = Dropout(0.2)(x)\n",
    "\n",
    "x = Dense(512, activation='relu')(x)\n",
    "\n",
    "x = Dropout(0.2)(x)\n",
    "\n",
    "x = Dense(K, activation='softmax')(x)\n",
    "\n",
    "model = Model(i, x)"
   ]
  },
  {
   "cell_type": "code",
   "execution_count": 38,
   "metadata": {},
   "outputs": [
    {
     "name": "stdout",
     "output_type": "stream",
     "text": [
      "Train on 60000 samples, validate on 10000 samples\n",
      "Epoch 1/20\n",
      "60000/60000 [==============================] - 49s 820us/sample - loss: 0.5182 - accuracy: 0.8086 - val_loss: 0.4151 - val_accuracy: 0.8417\n",
      "Epoch 2/20\n",
      "60000/60000 [==============================] - 44s 728us/sample - loss: 0.3529 - accuracy: 0.8668 - val_loss: 0.3334 - val_accuracy: 0.8782\n",
      "Epoch 3/20\n",
      "60000/60000 [==============================] - 44s 737us/sample - loss: 0.3065 - accuracy: 0.8845 - val_loss: 0.3247 - val_accuracy: 0.8786\n",
      "Epoch 4/20\n",
      "60000/60000 [==============================] - 42s 707us/sample - loss: 0.2744 - accuracy: 0.8974 - val_loss: 0.3175 - val_accuracy: 0.8831\n",
      "Epoch 5/20\n",
      "60000/60000 [==============================] - 45s 754us/sample - loss: 0.2495 - accuracy: 0.9058 - val_loss: 0.2924 - val_accuracy: 0.8931\n",
      "Epoch 6/20\n",
      "60000/60000 [==============================] - 45s 748us/sample - loss: 0.2295 - accuracy: 0.9136 - val_loss: 0.3032 - val_accuracy: 0.8968\n",
      "Epoch 7/20\n",
      "60000/60000 [==============================] - 43s 719us/sample - loss: 0.2115 - accuracy: 0.9195 - val_loss: 0.3054 - val_accuracy: 0.8974\n",
      "Epoch 8/20\n",
      "60000/60000 [==============================] - 43s 718us/sample - loss: 0.1950 - accuracy: 0.9258 - val_loss: 0.3028 - val_accuracy: 0.9032\n",
      "Epoch 9/20\n",
      "60000/60000 [==============================] - 44s 734us/sample - loss: 0.1805 - accuracy: 0.9327 - val_loss: 0.3044 - val_accuracy: 0.8993\n",
      "Epoch 10/20\n",
      "60000/60000 [==============================] - 44s 741us/sample - loss: 0.1696 - accuracy: 0.9359 - val_loss: 0.3140 - val_accuracy: 0.8991\n",
      "Epoch 11/20\n",
      "60000/60000 [==============================] - 43s 723us/sample - loss: 0.1587 - accuracy: 0.9392 - val_loss: 0.3289 - val_accuracy: 0.8994\n",
      "Epoch 12/20\n",
      "60000/60000 [==============================] - 43s 725us/sample - loss: 0.1502 - accuracy: 0.9419 - val_loss: 0.3381 - val_accuracy: 0.9001\n",
      "Epoch 13/20\n",
      "60000/60000 [==============================] - 44s 733us/sample - loss: 0.1432 - accuracy: 0.9464 - val_loss: 0.3491 - val_accuracy: 0.8987\n",
      "Epoch 14/20\n",
      "60000/60000 [==============================] - 43s 714us/sample - loss: 0.1314 - accuracy: 0.9504 - val_loss: 0.3719 - val_accuracy: 0.9021\n",
      "Epoch 15/20\n",
      "60000/60000 [==============================] - 44s 739us/sample - loss: 0.1254 - accuracy: 0.9529 - val_loss: 0.3661 - val_accuracy: 0.9021\n",
      "Epoch 16/20\n",
      "60000/60000 [==============================] - 43s 718us/sample - loss: 0.1186 - accuracy: 0.9547 - val_loss: 0.3611 - val_accuracy: 0.8957\n",
      "Epoch 17/20\n",
      "60000/60000 [==============================] - 44s 726us/sample - loss: 0.1156 - accuracy: 0.9559 - val_loss: 0.3808 - val_accuracy: 0.8912\n",
      "Epoch 18/20\n",
      "60000/60000 [==============================] - 40s 669us/sample - loss: 0.1083 - accuracy: 0.9589 - val_loss: 0.3768 - val_accuracy: 0.8995\n",
      "Epoch 19/20\n",
      "60000/60000 [==============================] - 41s 677us/sample - loss: 0.1007 - accuracy: 0.9618 - val_loss: 0.4071 - val_accuracy: 0.9014\n",
      "Epoch 20/20\n",
      "60000/60000 [==============================] - 41s 684us/sample - loss: 0.1007 - accuracy: 0.9626 - val_loss: 0.4167 - val_accuracy: 0.8966\n"
     ]
    }
   ],
   "source": [
    "# Compile and fit.\n",
    "\n",
    "model.compile(optimizer='adam', loss='sparse_categorical_crossentropy', metrics=['accuracy'])\n",
    "\n",
    "r = model.fit(x_train, y_train, validation_data=(x_test, y_test), epochs=20)"
   ]
  },
  {
   "cell_type": "code",
   "execution_count": 41,
   "metadata": {},
   "outputs": [
    {
     "name": "stdout",
     "output_type": "stream",
     "text": [
      "Confusion matrix, without normalization\n",
      "[[858   0  20  24   5   2  86   0   5   0]\n",
      " [  2 972   0  16   4   1   4   0   1   0]\n",
      " [ 26   0 815   8  82   1  68   0   0   0]\n",
      " [ 15   4  17 904  31   0  28   0   1   0]\n",
      " [  0   2  41  23 855   0  78   0   1   0]\n",
      " [  1   0   0   1   0 977   0  11   0  10]\n",
      " [106   1  57  27 109   1 690   0   9   0]\n",
      " [  0   0   0   0   0  10   0 973   1  16]\n",
      " [  2   0   3   2   8   2   3   2 976   2]\n",
      " [  1   0   0   0   0   8   0  45   0 946]]\n"
     ]
    },
    {
     "data": {
      "image/png": "[encoded data removed]",
      "text/plain": [
       "<Figure size 432x288 with 2 Axes>"
      ]
     },
     "metadata": {
      "needs_background": "light"
     },
     "output_type": "display_data"
    }
   ],
   "source": [
    "# Plot confusion matrix\n",
    "from sklearn.metrics import confusion_matrix\n",
    "import itertools\n",
    "\n",
    "def plot_confusion_matrix(cm, classes,\n",
    "                          normalize=False,\n",
    "                          title='Confusion matrix',\n",
    "                          cmap=plt.cm.Blues):\n",
    "  \"\"\"\n",
    "  This function prints and plots the confusion matrix.\n",
    "  Normalization can be applied by setting `normalize=True`.\n",
    "  \"\"\"\n",
    "  if normalize:\n",
    "      cm = cm.astype('float') / cm.sum(axis=1)[:, np.newaxis]\n",
    "      print(\"Normalized confusion matrix\")\n",
    "  else:\n",
    "      print('Confusion matrix, without normalization')\n",
    "\n",
    "  print(cm)\n",
    "\n",
    "  plt.imshow(cm, interpolation='nearest', cmap=cmap)\n",
    "  plt.title(title)\n",
    "  plt.colorbar()\n",
    "  tick_marks = np.arange(len(classes))\n",
    "  plt.xticks(tick_marks, classes, rotation=45)\n",
    "  plt.yticks(tick_marks, classes)\n",
    "\n",
    "  fmt = '.2f' if normalize else 'd'\n",
    "  thresh = cm.max() / 2.\n",
    "  for i, j in itertools.product(range(cm.shape[0]), range(cm.shape[1])):\n",
    "      plt.text(j, i, format(cm[i, j], fmt),\n",
    "               horizontalalignment=\"center\",\n",
    "               color=\"white\" if cm[i, j] > thresh else \"black\")\n",
    "\n",
    "  plt.tight_layout()\n",
    "  plt.ylabel('True label')\n",
    "  plt.xlabel('Predicted label')\n",
    "  plt.show()\n",
    "\n",
    "\n",
    "p_test = model.predict(x_test).argmax(axis=1)\n",
    "cm = confusion_matrix(y_test, p_test)\n",
    "plot_confusion_matrix(cm, list(range(10)))\n"
   ]
  },
  {
   "cell_type": "code",
   "execution_count": 42,
   "metadata": {},
   "outputs": [],
   "source": [
    "# Label mapping\n",
    "labels = '''T-shirt/top\n",
    "Trouser\n",
    "Pullover\n",
    "Dress\n",
    "Coat\n",
    "Sandal\n",
    "Shirt\n",
    "Sneaker\n",
    "Bag\n",
    "Ankle boot'''.split(\"\\n\")"
   ]
  },
  {
   "cell_type": "markdown",
   "metadata": {},
   "source": [
    "- If we check for wrong predictions 6 has been wrongly classified as 0 106 times and also wrongly classified as 4 109 times.\n",
    "\n",
    "- Means Shirt has been classified as Tshirt/top and Coat. Makes sense since all the three items are visually similiar.\n"
   ]
  },
  {
   "cell_type": "code",
   "execution_count": 44,
   "metadata": {},
   "outputs": [
    {
     "data": {
      "text/plain": [
       "<matplotlib.legend.Legend at 0x1aebabee988>"
      ]
     },
     "execution_count": 44,
     "metadata": {},
     "output_type": "execute_result"
    },
    {
     "data": {
      "image/png": "[encoded data removed]",
      "text/plain": [
       "<Figure size 432x288 with 1 Axes>"
      ]
     },
     "metadata": {
      "needs_background": "light"
     },
     "output_type": "display_data"
    }
   ],
   "source": [
    "# Plotting loss and accuracy per iterations.\n",
    "\n",
    "plt.plot(r.history['loss'], label='loss')\n",
    "plt.plot(r.history['val_loss'], label='val_loss')\n",
    "plt.legend()\n",
    "\n"
   ]
  },
  {
   "cell_type": "code",
   "execution_count": 45,
   "metadata": {},
   "outputs": [
    {
     "data": {
      "text/plain": [
       "<matplotlib.legend.Legend at 0x1aebb39b488>"
      ]
     },
     "execution_count": 45,
     "metadata": {},
     "output_type": "execute_result"
    },
    {
     "data": {
      "image/png": "[encoded data removed]",
      "text/plain": [
       "<Figure size 432x288 with 1 Axes>"
      ]
     },
     "metadata": {
      "needs_background": "light"
     },
     "output_type": "display_data"
    }
   ],
   "source": [
    "plt.plot(r.history['accuracy'], label='accuracy')\n",
    "plt.plot(r.history['val_accuracy'], label='accuracy')\n",
    "plt.legend()"
   ]
  },
  {
   "cell_type": "markdown",
   "metadata": {},
   "source": [
    " - Validation loss is increasing meaning the model is overfitting.\n",
    " - The validation accuracy remains almost constant meaning the model is confident of its wrong predictions which can be deduced from the loss incresing and accuracy remaining same."
   ]
  },
  {
   "cell_type": "code",
   "execution_count": 52,
   "metadata": {},
   "outputs": [
    {
     "data": {
      "image/png": "[encoded data removed]",
      "text/plain": [
       "<Figure size 432x288 with 1 Axes>"
      ]
     },
     "metadata": {
      "needs_background": "light"
     },
     "output_type": "display_data"
    }
   ],
   "source": [
    "# Some misclassified examples.\n",
    "\n",
    "wrong_pred = np.where(p_test != y_test)[0]\n",
    "\n",
    "i = np.random.choice(wrong_pred)\n",
    "\n",
    "plt.imshow(x_test[i].reshape(28,28), cmap='gray')\n",
    "plt.title(\"True label: %s, Predicted label: %s\" % (labels[y_test[i]], labels[p_test[i]]));"
   ]
  },
  {
   "cell_type": "markdown",
   "metadata": {},
   "source": [
    "## CIFR10 Dataset."
   ]
  },
  {
   "cell_type": "code",
   "execution_count": 55,
   "metadata": {},
   "outputs": [],
   "source": [
    "#Loading dataset.\n",
    "\n",
    "cifr10 = tf.keras.datasets.cifar10.load_data()\n",
    "\n",
    "(x1_train, y1_train), (x1_test, y1_test) = cifr10"
   ]
  },
  {
   "cell_type": "code",
   "execution_count": 56,
   "metadata": {},
   "outputs": [
    {
     "name": "stdout",
     "output_type": "stream",
     "text": [
      "Shape of X train:  (50000, 32, 32, 3)\n",
      "Shape of y train:  (50000, 1)\n",
      "Shape of X test:  (10000, 32, 32, 3)\n",
      "Shape of y test:  (10000, 1)\n"
     ]
    }
   ],
   "source": [
    "print(\"Shape of X train: \", x1_train.shape)\n",
    "\n",
    "print(\"Shape of y train: \", y1_train.shape)\n",
    "\n",
    "print(\"Shape of X test: \", x1_test.shape)\n",
    "\n",
    "print(\"Shape of y test: \", y1_test.shape)"
   ]
  },
  {
   "cell_type": "code",
   "execution_count": 59,
   "metadata": {},
   "outputs": [],
   "source": [
    "x1_train, x1_test = x1_train / 255.0 , x1_test / 255.0\n",
    "\n",
    "y1_train, y1_test = y1_train.flatten(), y1_test.flatten()\n",
    "\n",
    "# We need to flatten the target as the expected dimensions are 1 not 2."
   ]
  },
  {
   "cell_type": "code",
   "execution_count": 60,
   "metadata": {},
   "outputs": [
    {
     "name": "stdout",
     "output_type": "stream",
     "text": [
      "Shape of X train:  (50000, 32, 32, 3)\n",
      "Shape of y train:  (50000,)\n",
      "Shape of X test:  (10000, 32, 32, 3)\n",
      "Shape of y test:  (10000,)\n"
     ]
    }
   ],
   "source": [
    "print(\"Shape of X train: \", x1_train.shape)\n",
    "\n",
    "print(\"Shape of y train: \", y1_train.shape)\n",
    "\n",
    "print(\"Shape of X test: \", x1_test.shape)\n",
    "\n",
    "print(\"Shape of y test: \", y1_test.shape)"
   ]
  },
  {
   "cell_type": "code",
   "execution_count": 61,
   "metadata": {},
   "outputs": [
    {
     "data": {
      "text/plain": [
       "10"
      ]
     },
     "execution_count": 61,
     "metadata": {},
     "output_type": "execute_result"
    }
   ],
   "source": [
    "K1 = len(set(y1_train))\n",
    "\n",
    "K1"
   ]
  },
  {
   "cell_type": "code",
   "execution_count": 62,
   "metadata": {},
   "outputs": [],
   "source": [
    "## Building a model using keras functional API.\n",
    "\n",
    "i1 = Input(shape=x1_train[1].shape)\n",
    "\n",
    "x1 = Conv2D(32, (3,3), strides=2, activation='relu')(i1)\n",
    "x1 = Conv2D(64, (3,3), strides=2, activation='relu')(x1)\n",
    "x1 = Conv2D(128, (3,3), strides=2, activation='relu')(x1)\n",
    "\n",
    "x1 = Flatten()(x1)\n",
    "\n",
    "x1 = Dropout(0.5)(x1)\n",
    "\n",
    "x1 = Dense(512, activation='relu')(x1)\n",
    "\n",
    "x1 = Dropout(0.2)(x1)\n",
    "\n",
    "x1 = Dense(K, activation='softmax')(x1)\n",
    "\n",
    "model1 = Model(i1, x1)"
   ]
  },
  {
   "cell_type": "code",
   "execution_count": 64,
   "metadata": {},
   "outputs": [
    {
     "name": "stdout",
     "output_type": "stream",
     "text": [
      "Train on 50000 samples, validate on 10000 samples\n",
      "Epoch 1/20\n",
      "50000/50000 [==============================] - 82s 2ms/sample - loss: 1.5552 - accuracy: 0.4343 - val_loss: 1.2683 - val_accuracy: 0.5417\n",
      "Epoch 2/20\n",
      "50000/50000 [==============================] - 60s 1ms/sample - loss: 1.2229 - accuracy: 0.5645 - val_loss: 1.1084 - val_accuracy: 0.6022\n",
      "Epoch 3/20\n",
      "50000/50000 [==============================] - 55s 1ms/sample - loss: 1.0763 - accuracy: 0.6194 - val_loss: 1.0508 - val_accuracy: 0.6241\n",
      "Epoch 4/20\n",
      "50000/50000 [==============================] - 57s 1ms/sample - loss: 0.9616 - accuracy: 0.6592 - val_loss: 0.9660 - val_accuracy: 0.6566\n",
      "Epoch 5/20\n",
      "50000/50000 [==============================] - 57s 1ms/sample - loss: 0.8676 - accuracy: 0.6927 - val_loss: 0.9476 - val_accuracy: 0.6597\n",
      "Epoch 6/20\n",
      "50000/50000 [==============================] - 55s 1ms/sample - loss: 0.7918 - accuracy: 0.7189 - val_loss: 0.9459 - val_accuracy: 0.6736\n",
      "Epoch 7/20\n",
      "50000/50000 [==============================] - 55s 1ms/sample - loss: 0.7286 - accuracy: 0.7416 - val_loss: 0.9169 - val_accuracy: 0.6849\n",
      "Epoch 8/20\n",
      "50000/50000 [==============================] - 54s 1ms/sample - loss: 0.6639 - accuracy: 0.7663 - val_loss: 0.8999 - val_accuracy: 0.6932\n",
      "Epoch 9/20\n",
      "50000/50000 [==============================] - 57s 1ms/sample - loss: 0.6016 - accuracy: 0.7853 - val_loss: 0.9378 - val_accuracy: 0.6926\n",
      "Epoch 10/20\n",
      "50000/50000 [==============================] - 53s 1ms/sample - loss: 0.5544 - accuracy: 0.8025 - val_loss: 0.9196 - val_accuracy: 0.6987\n",
      "Epoch 11/20\n",
      "50000/50000 [==============================] - 54s 1ms/sample - loss: 0.5121 - accuracy: 0.8174 - val_loss: 0.9399 - val_accuracy: 0.6973\n",
      "Epoch 12/20\n",
      "50000/50000 [==============================] - 55s 1ms/sample - loss: 0.4760 - accuracy: 0.8295 - val_loss: 0.9854 - val_accuracy: 0.6897\n",
      "Epoch 13/20\n",
      "50000/50000 [==============================] - 54s 1ms/sample - loss: 0.4429 - accuracy: 0.8422 - val_loss: 0.9929 - val_accuracy: 0.6987\n",
      "Epoch 14/20\n",
      "50000/50000 [==============================] - 55s 1ms/sample - loss: 0.4109 - accuracy: 0.8512 - val_loss: 0.9925 - val_accuracy: 0.6930\n",
      "Epoch 15/20\n",
      "50000/50000 [==============================] - 55s 1ms/sample - loss: 0.3915 - accuracy: 0.8593 - val_loss: 1.0115 - val_accuracy: 0.6971\n",
      "Epoch 16/20\n",
      "50000/50000 [==============================] - 55s 1ms/sample - loss: 0.3697 - accuracy: 0.8686 - val_loss: 1.0612 - val_accuracy: 0.6965\n",
      "Epoch 17/20\n",
      "50000/50000 [==============================] - 56s 1ms/sample - loss: 0.3484 - accuracy: 0.8739 - val_loss: 1.0487 - val_accuracy: 0.6976\n",
      "Epoch 18/20\n",
      "50000/50000 [==============================] - 59s 1ms/sample - loss: 0.3382 - accuracy: 0.8804 - val_loss: 1.0609 - val_accuracy: 0.7039\n",
      "Epoch 19/20\n",
      "50000/50000 [==============================] - 56s 1ms/sample - loss: 0.3229 - accuracy: 0.8851 - val_loss: 1.1070 - val_accuracy: 0.6955\n",
      "Epoch 20/20\n",
      "50000/50000 [==============================] - 54s 1ms/sample - loss: 0.3139 - accuracy: 0.8883 - val_loss: 1.1260 - val_accuracy: 0.6966\n"
     ]
    }
   ],
   "source": [
    "# Compile and fit.\n",
    "\n",
    "model1.compile(optimizer='adam', loss='sparse_categorical_crossentropy', metrics=['accuracy'])\n",
    "\n",
    "r1 = model1.fit(x1_train, y1_train, validation_data=(x1_test, y1_test), epochs=20)"
   ]
  },
  {
   "cell_type": "code",
   "execution_count": 65,
   "metadata": {},
   "outputs": [],
   "source": [
    "# label mapping\n",
    "labels1 = '''airplane\n",
    "automobile\n",
    "bird\n",
    "cat\n",
    "deer\n",
    "dog\n",
    "frog\n",
    "horse\n",
    "ship\n",
    "truck'''.split()"
   ]
  },
  {
   "cell_type": "code",
   "execution_count": 66,
   "metadata": {},
   "outputs": [
    {
     "data": {
      "text/plain": [
       "<matplotlib.legend.Legend at 0x1aebc08c788>"
      ]
     },
     "execution_count": 66,
     "metadata": {},
     "output_type": "execute_result"
    },
    {
     "data": {
      "image/png": "[encoded data removed]",
      "text/plain": [
       "<Figure size 432x288 with 1 Axes>"
      ]
     },
     "metadata": {
      "needs_background": "light"
     },
     "output_type": "display_data"
    }
   ],
   "source": [
    "# Plotting loss and accuracy per iterations.\n",
    "\n",
    "plt.plot(r1.history['loss'], label='loss')\n",
    "plt.plot(r1.history['val_loss'], label='val_loss')\n",
    "plt.legend()\n",
    "\n"
   ]
  },
  {
   "cell_type": "code",
   "execution_count": 67,
   "metadata": {},
   "outputs": [
    {
     "data": {
      "text/plain": [
       "<matplotlib.legend.Legend at 0x1aebc138488>"
      ]
     },
     "execution_count": 67,
     "metadata": {},
     "output_type": "execute_result"
    },
    {
     "data": {
      "image/png": "[encoded data removed]",
      "text/plain": [
       "<Figure size 432x288 with 1 Axes>"
      ]
     },
     "metadata": {
      "needs_background": "light"
     },
     "output_type": "display_data"
    }
   ],
   "source": [
    "plt.plot(r1.history['accuracy'], label='accuracy')\n",
    "plt.plot(r1.history['val_accuracy'], label='accuracy')\n",
    "plt.legend()"
   ]
  },
  {
   "cell_type": "markdown",
   "metadata": {},
   "source": [
    "- The loss has still not converged and the valdation loss is increasing. This suggests overfitting of the model.\n",
    "- The accuracy also has still not converged. We might needs more epochs. The validation accuracy is steady.\n",
    "\n",
    "- Since the validation is loss is increasing and the validation accuracy is still the same suggests overfitting."
   ]
  },
  {
   "cell_type": "code",
   "execution_count": 68,
   "metadata": {},
   "outputs": [
    {
     "name": "stdout",
     "output_type": "stream",
     "text": [
      "Confusion matrix, without normalization\n",
      "[[720  23  64  23  11   8  11  16  91  33]\n",
      " [ 22 848  10  13   3   2   5   4  23  70]\n",
      " [ 57  11 596  67 103  60  43  41  14   8]\n",
      " [ 32  13  80 470  73 178  54  63  13  24]\n",
      " [ 17   3  78  60 663  42  33  90   8   6]\n",
      " [ 13   7  48 171  61 586  27  69   9   9]\n",
      " [  4   9  38  75  55  40 749  15  11   4]\n",
      " [ 14   1  25  33  58  57   8 789   2  13]\n",
      " [ 63  35  17  20   7   7   6   4 828  13]\n",
      " [ 40 129  17  16   5  13   6  23  34 717]]\n"
     ]
    },
    {
     "data": {
      "image/png": "[encoded data removed]",
      "text/plain": [
       "<Figure size 432x288 with 2 Axes>"
      ]
     },
     "metadata": {
      "needs_background": "light"
     },
     "output_type": "display_data"
    }
   ],
   "source": [
    "# Confusion matrix\n",
    "\n",
    "p1_test = model1.predict(x1_test).argmax(axis=1)\n",
    "cm = confusion_matrix(y1_test, p1_test)\n",
    "plot_confusion_matrix(cm, list(range(10)))"
   ]
  },
  {
   "cell_type": "markdown",
   "metadata": {},
   "source": [
    "## Imporving results using Batch Normalization."
   ]
  },
  {
   "cell_type": "code",
   "execution_count": 79,
   "metadata": {},
   "outputs": [],
   "source": [
    "# Building a model again. Will be adding batch normalization layer between two CNN layers.\n",
    "\n",
    "\n",
    "from tensorflow.keras.layers import GlobalMaxPooling2D, MaxPooling2D, BatchNormalization\n",
    "\n",
    "i2 = Input(shape=x1_train[0].shape)\n",
    "\n",
    "x2 = Conv2D(32, (3, 3), activation='relu', padding='same')(i2)\n",
    "x2 = BatchNormalization()(x2)\n",
    "x2 = Conv2D(32, (3, 3), activation='relu', padding='same')(x2)\n",
    "x2 = BatchNormalization()(x2)\n",
    "\n",
    "x2 = MaxPooling2D((2, 2))(x2)\n",
    "\n",
    "x2 = Conv2D(64, (3, 3), activation='relu', padding='same')(x2)\n",
    "x2 = BatchNormalization()(x2)\n",
    "x2 = Conv2D(64, (3, 3), activation='relu', padding='same')(x2)\n",
    "x2 = BatchNormalization()(x2)\n",
    "\n",
    "x2 = MaxPooling2D((2, 2))(x2)\n",
    "\n",
    "x2 = Conv2D(128, (3, 3), activation='relu', padding='same')(x2)\n",
    "x2 = BatchNormalization()(x2)\n",
    "x2 = Conv2D(128, (3, 3), activation='relu', padding='same')(x2)\n",
    "x2 = BatchNormalization()(x2)\n",
    "\n",
    "x2 = MaxPooling2D((2, 2))(x2)\n",
    "\n",
    "\n",
    "x2 = Flatten()(x2)\n",
    "x2 = Dropout(0.2)(x2)\n",
    "x2 = Dense(1024, activation='relu')(x2)\n",
    "x2 = Dropout(0.2)(x2)\n",
    "x2 = Dense(K, activation='softmax')(x2)\n",
    "\n",
    "model2 = Model(i2, x2)"
   ]
  },
  {
   "cell_type": "code",
   "execution_count": 80,
   "metadata": {},
   "outputs": [],
   "source": [
    "model2.compile(optimizer='adam',\n",
    "              loss='sparse_categorical_crossentropy',\n",
    "              metrics=['accuracy'])"
   ]
  },
  {
   "cell_type": "code",
   "execution_count": 83,
   "metadata": {},
   "outputs": [
    {
     "name": "stdout",
     "output_type": "stream",
     "text": [
      "Train on 50000 samples, validate on 10000 samples\n",
      "Epoch 1/15\n",
      "50000/50000 [==============================] - 907s 18ms/sample - loss: 0.2217 - accuracy: 0.9244 - val_loss: 0.6961 - val_accuracy: 0.8114\n",
      "Epoch 2/15\n",
      "50000/50000 [==============================] - 759s 15ms/sample - loss: 0.2009 - accuracy: 0.9324 - val_loss: 0.6764 - val_accuracy: 0.8172\n",
      "Epoch 3/15\n",
      "50000/50000 [==============================] - 713s 14ms/sample - loss: 0.1642 - accuracy: 0.9438 - val_loss: 0.7402 - val_accuracy: 0.8107\n",
      "Epoch 4/15\n",
      "50000/50000 [==============================] - 566s 11ms/sample - loss: 0.1545 - accuracy: 0.9482 - val_loss: 0.6733 - val_accuracy: 0.8211\n",
      "Epoch 5/15\n",
      "50000/50000 [==============================] - 468s 9ms/sample - loss: 0.1424 - accuracy: 0.9517 - val_loss: 0.7547 - val_accuracy: 0.8308\n",
      "Epoch 6/15\n",
      "12352/50000 [======>.......................] - ETA: 5:48 - loss: 0.1103 - accuracy: 0.9628"
     ]
    },
    {
     "ename": "KeyboardInterrupt",
     "evalue": "",
     "output_type": "error",
     "traceback": [
      "\u001b[1;31m---------------------------------------------------------------------------\u001b[0m",
      "\u001b[1;31mKeyboardInterrupt\u001b[0m                         Traceback (most recent call last)",
      "\u001b[1;32m<ipython-input-83-d200d307aa39>\u001b[0m in \u001b[0;36m<module>\u001b[1;34m\u001b[0m\n\u001b[0;32m      1\u001b[0m \u001b[1;31m# Fit\u001b[0m\u001b[1;33m\u001b[0m\u001b[1;33m\u001b[0m\u001b[1;33m\u001b[0m\u001b[0m\n\u001b[1;32m----> 2\u001b[1;33m r2 = model2.fit(x1_train, y1_train, validation_data=(x1_test, y1_test), epochs=15\n\u001b[0m\u001b[0;32m      3\u001b[0m                )\n",
      "\u001b[1;32mC:\\ProgramData\\Anaconda3\\envs\\p3.7_tf2\\lib\\site-packages\\tensorflow_core\\python\\keras\\engine\\training.py\u001b[0m in \u001b[0;36mfit\u001b[1;34m(self, x, y, batch_size, epochs, verbose, callbacks, validation_split, validation_data, shuffle, class_weight, sample_weight, initial_epoch, steps_per_epoch, validation_steps, validation_freq, max_queue_size, workers, use_multiprocessing, **kwargs)\u001b[0m\n\u001b[0;32m    817\u001b[0m         \u001b[0mmax_queue_size\u001b[0m\u001b[1;33m=\u001b[0m\u001b[0mmax_queue_size\u001b[0m\u001b[1;33m,\u001b[0m\u001b[1;33m\u001b[0m\u001b[1;33m\u001b[0m\u001b[0m\n\u001b[0;32m    818\u001b[0m         \u001b[0mworkers\u001b[0m\u001b[1;33m=\u001b[0m\u001b[0mworkers\u001b[0m\u001b[1;33m,\u001b[0m\u001b[1;33m\u001b[0m\u001b[1;33m\u001b[0m\u001b[0m\n\u001b[1;32m--> 819\u001b[1;33m         use_multiprocessing=use_multiprocessing)\n\u001b[0m\u001b[0;32m    820\u001b[0m \u001b[1;33m\u001b[0m\u001b[0m\n\u001b[0;32m    821\u001b[0m   def evaluate(self,\n",
      "\u001b[1;32mC:\\ProgramData\\Anaconda3\\envs\\p3.7_tf2\\lib\\site-packages\\tensorflow_core\\python\\keras\\engine\\training_v2.py\u001b[0m in \u001b[0;36mfit\u001b[1;34m(self, model, x, y, batch_size, epochs, verbose, callbacks, validation_split, validation_data, shuffle, class_weight, sample_weight, initial_epoch, steps_per_epoch, validation_steps, validation_freq, max_queue_size, workers, use_multiprocessing, **kwargs)\u001b[0m\n\u001b[0;32m    340\u001b[0m                 \u001b[0mmode\u001b[0m\u001b[1;33m=\u001b[0m\u001b[0mModeKeys\u001b[0m\u001b[1;33m.\u001b[0m\u001b[0mTRAIN\u001b[0m\u001b[1;33m,\u001b[0m\u001b[1;33m\u001b[0m\u001b[1;33m\u001b[0m\u001b[0m\n\u001b[0;32m    341\u001b[0m                 \u001b[0mtraining_context\u001b[0m\u001b[1;33m=\u001b[0m\u001b[0mtraining_context\u001b[0m\u001b[1;33m,\u001b[0m\u001b[1;33m\u001b[0m\u001b[1;33m\u001b[0m\u001b[0m\n\u001b[1;32m--> 342\u001b[1;33m                 total_epochs=epochs)\n\u001b[0m\u001b[0;32m    343\u001b[0m             \u001b[0mcbks\u001b[0m\u001b[1;33m.\u001b[0m\u001b[0mmake_logs\u001b[0m\u001b[1;33m(\u001b[0m\u001b[0mmodel\u001b[0m\u001b[1;33m,\u001b[0m \u001b[0mepoch_logs\u001b[0m\u001b[1;33m,\u001b[0m \u001b[0mtraining_result\u001b[0m\u001b[1;33m,\u001b[0m \u001b[0mModeKeys\u001b[0m\u001b[1;33m.\u001b[0m\u001b[0mTRAIN\u001b[0m\u001b[1;33m)\u001b[0m\u001b[1;33m\u001b[0m\u001b[1;33m\u001b[0m\u001b[0m\n\u001b[0;32m    344\u001b[0m \u001b[1;33m\u001b[0m\u001b[0m\n",
      "\u001b[1;32mC:\\ProgramData\\Anaconda3\\envs\\p3.7_tf2\\lib\\site-packages\\tensorflow_core\\python\\keras\\engine\\training_v2.py\u001b[0m in \u001b[0;36mrun_one_epoch\u001b[1;34m(model, iterator, execution_function, dataset_size, batch_size, strategy, steps_per_epoch, num_samples, mode, training_context, total_epochs)\u001b[0m\n\u001b[0;32m    126\u001b[0m         step=step, mode=mode, size=current_batch_size) as batch_logs:\n\u001b[0;32m    127\u001b[0m       \u001b[1;32mtry\u001b[0m\u001b[1;33m:\u001b[0m\u001b[1;33m\u001b[0m\u001b[1;33m\u001b[0m\u001b[0m\n\u001b[1;32m--> 128\u001b[1;33m         \u001b[0mbatch_outs\u001b[0m \u001b[1;33m=\u001b[0m \u001b[0mexecution_function\u001b[0m\u001b[1;33m(\u001b[0m\u001b[0miterator\u001b[0m\u001b[1;33m)\u001b[0m\u001b[1;33m\u001b[0m\u001b[1;33m\u001b[0m\u001b[0m\n\u001b[0m\u001b[0;32m    129\u001b[0m       \u001b[1;32mexcept\u001b[0m \u001b[1;33m(\u001b[0m\u001b[0mStopIteration\u001b[0m\u001b[1;33m,\u001b[0m \u001b[0merrors\u001b[0m\u001b[1;33m.\u001b[0m\u001b[0mOutOfRangeError\u001b[0m\u001b[1;33m)\u001b[0m\u001b[1;33m:\u001b[0m\u001b[1;33m\u001b[0m\u001b[1;33m\u001b[0m\u001b[0m\n\u001b[0;32m    130\u001b[0m         \u001b[1;31m# TODO(kaftan): File bug about tf function and errors.OutOfRangeError?\u001b[0m\u001b[1;33m\u001b[0m\u001b[1;33m\u001b[0m\u001b[1;33m\u001b[0m\u001b[0m\n",
      "\u001b[1;32mC:\\ProgramData\\Anaconda3\\envs\\p3.7_tf2\\lib\\site-packages\\tensorflow_core\\python\\keras\\engine\\training_v2_utils.py\u001b[0m in \u001b[0;36mexecution_function\u001b[1;34m(input_fn)\u001b[0m\n\u001b[0;32m     96\u001b[0m     \u001b[1;31m# `numpy` translates Tensors to values in Eager mode.\u001b[0m\u001b[1;33m\u001b[0m\u001b[1;33m\u001b[0m\u001b[1;33m\u001b[0m\u001b[0m\n\u001b[0;32m     97\u001b[0m     return nest.map_structure(_non_none_constant_value,\n\u001b[1;32m---> 98\u001b[1;33m                               distributed_function(input_fn))\n\u001b[0m\u001b[0;32m     99\u001b[0m \u001b[1;33m\u001b[0m\u001b[0m\n\u001b[0;32m    100\u001b[0m   \u001b[1;32mreturn\u001b[0m \u001b[0mexecution_function\u001b[0m\u001b[1;33m\u001b[0m\u001b[1;33m\u001b[0m\u001b[0m\n",
      "\u001b[1;32mC:\\ProgramData\\Anaconda3\\envs\\p3.7_tf2\\lib\\site-packages\\tensorflow_core\\python\\eager\\def_function.py\u001b[0m in \u001b[0;36m__call__\u001b[1;34m(self, *args, **kwds)\u001b[0m\n\u001b[0;32m    566\u001b[0m         \u001b[0mxla_context\u001b[0m\u001b[1;33m.\u001b[0m\u001b[0mExit\u001b[0m\u001b[1;33m(\u001b[0m\u001b[1;33m)\u001b[0m\u001b[1;33m\u001b[0m\u001b[1;33m\u001b[0m\u001b[0m\n\u001b[0;32m    567\u001b[0m     \u001b[1;32melse\u001b[0m\u001b[1;33m:\u001b[0m\u001b[1;33m\u001b[0m\u001b[1;33m\u001b[0m\u001b[0m\n\u001b[1;32m--> 568\u001b[1;33m       \u001b[0mresult\u001b[0m \u001b[1;33m=\u001b[0m \u001b[0mself\u001b[0m\u001b[1;33m.\u001b[0m\u001b[0m_call\u001b[0m\u001b[1;33m(\u001b[0m\u001b[1;33m*\u001b[0m\u001b[0margs\u001b[0m\u001b[1;33m,\u001b[0m \u001b[1;33m**\u001b[0m\u001b[0mkwds\u001b[0m\u001b[1;33m)\u001b[0m\u001b[1;33m\u001b[0m\u001b[1;33m\u001b[0m\u001b[0m\n\u001b[0m\u001b[0;32m    569\u001b[0m \u001b[1;33m\u001b[0m\u001b[0m\n\u001b[0;32m    570\u001b[0m     \u001b[1;32mif\u001b[0m \u001b[0mtracing_count\u001b[0m \u001b[1;33m==\u001b[0m \u001b[0mself\u001b[0m\u001b[1;33m.\u001b[0m\u001b[0m_get_tracing_count\u001b[0m\u001b[1;33m(\u001b[0m\u001b[1;33m)\u001b[0m\u001b[1;33m:\u001b[0m\u001b[1;33m\u001b[0m\u001b[1;33m\u001b[0m\u001b[0m\n",
      "\u001b[1;32mC:\\ProgramData\\Anaconda3\\envs\\p3.7_tf2\\lib\\site-packages\\tensorflow_core\\python\\eager\\def_function.py\u001b[0m in \u001b[0;36m_call\u001b[1;34m(self, *args, **kwds)\u001b[0m\n\u001b[0;32m    597\u001b[0m       \u001b[1;31m# In this case we have created variables on the first call, so we run the\u001b[0m\u001b[1;33m\u001b[0m\u001b[1;33m\u001b[0m\u001b[1;33m\u001b[0m\u001b[0m\n\u001b[0;32m    598\u001b[0m       \u001b[1;31m# defunned version which is guaranteed to never create variables.\u001b[0m\u001b[1;33m\u001b[0m\u001b[1;33m\u001b[0m\u001b[1;33m\u001b[0m\u001b[0m\n\u001b[1;32m--> 599\u001b[1;33m       \u001b[1;32mreturn\u001b[0m \u001b[0mself\u001b[0m\u001b[1;33m.\u001b[0m\u001b[0m_stateless_fn\u001b[0m\u001b[1;33m(\u001b[0m\u001b[1;33m*\u001b[0m\u001b[0margs\u001b[0m\u001b[1;33m,\u001b[0m \u001b[1;33m**\u001b[0m\u001b[0mkwds\u001b[0m\u001b[1;33m)\u001b[0m  \u001b[1;31m# pylint: disable=not-callable\u001b[0m\u001b[1;33m\u001b[0m\u001b[1;33m\u001b[0m\u001b[0m\n\u001b[0m\u001b[0;32m    600\u001b[0m     \u001b[1;32melif\u001b[0m \u001b[0mself\u001b[0m\u001b[1;33m.\u001b[0m\u001b[0m_stateful_fn\u001b[0m \u001b[1;32mis\u001b[0m \u001b[1;32mnot\u001b[0m \u001b[1;32mNone\u001b[0m\u001b[1;33m:\u001b[0m\u001b[1;33m\u001b[0m\u001b[1;33m\u001b[0m\u001b[0m\n\u001b[0;32m    601\u001b[0m       \u001b[1;31m# Release the lock early so that multiple threads can perform the call\u001b[0m\u001b[1;33m\u001b[0m\u001b[1;33m\u001b[0m\u001b[1;33m\u001b[0m\u001b[0m\n",
      "\u001b[1;32mC:\\ProgramData\\Anaconda3\\envs\\p3.7_tf2\\lib\\site-packages\\tensorflow_core\\python\\eager\\function.py\u001b[0m in \u001b[0;36m__call__\u001b[1;34m(self, *args, **kwargs)\u001b[0m\n\u001b[0;32m   2361\u001b[0m     \u001b[1;32mwith\u001b[0m \u001b[0mself\u001b[0m\u001b[1;33m.\u001b[0m\u001b[0m_lock\u001b[0m\u001b[1;33m:\u001b[0m\u001b[1;33m\u001b[0m\u001b[1;33m\u001b[0m\u001b[0m\n\u001b[0;32m   2362\u001b[0m       \u001b[0mgraph_function\u001b[0m\u001b[1;33m,\u001b[0m \u001b[0margs\u001b[0m\u001b[1;33m,\u001b[0m \u001b[0mkwargs\u001b[0m \u001b[1;33m=\u001b[0m \u001b[0mself\u001b[0m\u001b[1;33m.\u001b[0m\u001b[0m_maybe_define_function\u001b[0m\u001b[1;33m(\u001b[0m\u001b[0margs\u001b[0m\u001b[1;33m,\u001b[0m \u001b[0mkwargs\u001b[0m\u001b[1;33m)\u001b[0m\u001b[1;33m\u001b[0m\u001b[1;33m\u001b[0m\u001b[0m\n\u001b[1;32m-> 2363\u001b[1;33m     \u001b[1;32mreturn\u001b[0m \u001b[0mgraph_function\u001b[0m\u001b[1;33m.\u001b[0m\u001b[0m_filtered_call\u001b[0m\u001b[1;33m(\u001b[0m\u001b[0margs\u001b[0m\u001b[1;33m,\u001b[0m \u001b[0mkwargs\u001b[0m\u001b[1;33m)\u001b[0m  \u001b[1;31m# pylint: disable=protected-access\u001b[0m\u001b[1;33m\u001b[0m\u001b[1;33m\u001b[0m\u001b[0m\n\u001b[0m\u001b[0;32m   2364\u001b[0m \u001b[1;33m\u001b[0m\u001b[0m\n\u001b[0;32m   2365\u001b[0m   \u001b[1;33m@\u001b[0m\u001b[0mproperty\u001b[0m\u001b[1;33m\u001b[0m\u001b[1;33m\u001b[0m\u001b[0m\n",
      "\u001b[1;32mC:\\ProgramData\\Anaconda3\\envs\\p3.7_tf2\\lib\\site-packages\\tensorflow_core\\python\\eager\\function.py\u001b[0m in \u001b[0;36m_filtered_call\u001b[1;34m(self, args, kwargs)\u001b[0m\n\u001b[0;32m   1609\u001b[0m          if isinstance(t, (ops.Tensor,\n\u001b[0;32m   1610\u001b[0m                            resource_variable_ops.BaseResourceVariable))),\n\u001b[1;32m-> 1611\u001b[1;33m         self.captured_inputs)\n\u001b[0m\u001b[0;32m   1612\u001b[0m \u001b[1;33m\u001b[0m\u001b[0m\n\u001b[0;32m   1613\u001b[0m   \u001b[1;32mdef\u001b[0m \u001b[0m_call_flat\u001b[0m\u001b[1;33m(\u001b[0m\u001b[0mself\u001b[0m\u001b[1;33m,\u001b[0m \u001b[0margs\u001b[0m\u001b[1;33m,\u001b[0m \u001b[0mcaptured_inputs\u001b[0m\u001b[1;33m,\u001b[0m \u001b[0mcancellation_manager\u001b[0m\u001b[1;33m=\u001b[0m\u001b[1;32mNone\u001b[0m\u001b[1;33m)\u001b[0m\u001b[1;33m:\u001b[0m\u001b[1;33m\u001b[0m\u001b[1;33m\u001b[0m\u001b[0m\n",
      "\u001b[1;32mC:\\ProgramData\\Anaconda3\\envs\\p3.7_tf2\\lib\\site-packages\\tensorflow_core\\python\\eager\\function.py\u001b[0m in \u001b[0;36m_call_flat\u001b[1;34m(self, args, captured_inputs, cancellation_manager)\u001b[0m\n\u001b[0;32m   1690\u001b[0m       \u001b[1;31m# No tape is watching; skip to running the function.\u001b[0m\u001b[1;33m\u001b[0m\u001b[1;33m\u001b[0m\u001b[1;33m\u001b[0m\u001b[0m\n\u001b[0;32m   1691\u001b[0m       return self._build_call_outputs(self._inference_function.call(\n\u001b[1;32m-> 1692\u001b[1;33m           ctx, args, cancellation_manager=cancellation_manager))\n\u001b[0m\u001b[0;32m   1693\u001b[0m     forward_backward = self._select_forward_and_backward_functions(\n\u001b[0;32m   1694\u001b[0m         \u001b[0margs\u001b[0m\u001b[1;33m,\u001b[0m\u001b[1;33m\u001b[0m\u001b[1;33m\u001b[0m\u001b[0m\n",
      "\u001b[1;32mC:\\ProgramData\\Anaconda3\\envs\\p3.7_tf2\\lib\\site-packages\\tensorflow_core\\python\\eager\\function.py\u001b[0m in \u001b[0;36mcall\u001b[1;34m(self, ctx, args, cancellation_manager)\u001b[0m\n\u001b[0;32m    543\u001b[0m               \u001b[0minputs\u001b[0m\u001b[1;33m=\u001b[0m\u001b[0margs\u001b[0m\u001b[1;33m,\u001b[0m\u001b[1;33m\u001b[0m\u001b[1;33m\u001b[0m\u001b[0m\n\u001b[0;32m    544\u001b[0m               \u001b[0mattrs\u001b[0m\u001b[1;33m=\u001b[0m\u001b[1;33m(\u001b[0m\u001b[1;34m\"executor_type\"\u001b[0m\u001b[1;33m,\u001b[0m \u001b[0mexecutor_type\u001b[0m\u001b[1;33m,\u001b[0m \u001b[1;34m\"config_proto\"\u001b[0m\u001b[1;33m,\u001b[0m \u001b[0mconfig\u001b[0m\u001b[1;33m)\u001b[0m\u001b[1;33m,\u001b[0m\u001b[1;33m\u001b[0m\u001b[1;33m\u001b[0m\u001b[0m\n\u001b[1;32m--> 545\u001b[1;33m               ctx=ctx)\n\u001b[0m\u001b[0;32m    546\u001b[0m         \u001b[1;32melse\u001b[0m\u001b[1;33m:\u001b[0m\u001b[1;33m\u001b[0m\u001b[1;33m\u001b[0m\u001b[0m\n\u001b[0;32m    547\u001b[0m           outputs = execute.execute_with_cancellation(\n",
      "\u001b[1;32mC:\\ProgramData\\Anaconda3\\envs\\p3.7_tf2\\lib\\site-packages\\tensorflow_core\\python\\eager\\execute.py\u001b[0m in \u001b[0;36mquick_execute\u001b[1;34m(op_name, num_outputs, inputs, attrs, ctx, name)\u001b[0m\n\u001b[0;32m     59\u001b[0m     tensors = pywrap_tensorflow.TFE_Py_Execute(ctx._handle, device_name,\n\u001b[0;32m     60\u001b[0m                                                \u001b[0mop_name\u001b[0m\u001b[1;33m,\u001b[0m \u001b[0minputs\u001b[0m\u001b[1;33m,\u001b[0m \u001b[0mattrs\u001b[0m\u001b[1;33m,\u001b[0m\u001b[1;33m\u001b[0m\u001b[1;33m\u001b[0m\u001b[0m\n\u001b[1;32m---> 61\u001b[1;33m                                                num_outputs)\n\u001b[0m\u001b[0;32m     62\u001b[0m   \u001b[1;32mexcept\u001b[0m \u001b[0mcore\u001b[0m\u001b[1;33m.\u001b[0m\u001b[0m_NotOkStatusException\u001b[0m \u001b[1;32mas\u001b[0m \u001b[0me\u001b[0m\u001b[1;33m:\u001b[0m\u001b[1;33m\u001b[0m\u001b[1;33m\u001b[0m\u001b[0m\n\u001b[0;32m     63\u001b[0m     \u001b[1;32mif\u001b[0m \u001b[0mname\u001b[0m \u001b[1;32mis\u001b[0m \u001b[1;32mnot\u001b[0m \u001b[1;32mNone\u001b[0m\u001b[1;33m:\u001b[0m\u001b[1;33m\u001b[0m\u001b[1;33m\u001b[0m\u001b[0m\n",
      "\u001b[1;31mKeyboardInterrupt\u001b[0m: "
     ]
    }
   ],
   "source": [
    "# Fit\n",
    "r2 = model2.fit(x1_train, y1_train, validation_data=(x1_test, y1_test), epochs=15\n",
    "               )"
   ]
  },
  {
   "cell_type": "markdown",
   "metadata": {},
   "source": [
    "- If we compare the epoch from the previous model we can see that the val_accuracy is significantly improving.\n",
    "\n",
    "- Ideally I would have preffered to run this for 50 epochs to check the val_loss.\n",
    "\n",
    " - Will be uploading the same in Google Colab "
   ]
  },
  {
   "cell_type": "code",
   "execution_count": null,
   "metadata": {},
   "outputs": [],
   "source": []
  }
 ],
 "metadata": {
  "kernelspec": {
   "display_name": "Python 3",
   "language": "python",
   "name": "python3"
  }
 },
 "nbformat": 4,
 "nbformat_minor": 4
}
